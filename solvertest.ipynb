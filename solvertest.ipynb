{
 "cells": [
  {
   "cell_type": "code",
   "execution_count": 2,
   "metadata": {},
   "outputs": [],
   "source": [
    "from drawpile import drawPile\n",
    "import numpy as np\n",
    "import ILP\n",
    "from hand import hand\n",
    "'''\n",
    "gather all of the tiles on the board and in your hand\n",
    "count them up 0 to 2 for each tile, recorded in y array\n",
    "y[i] array:\n",
    "y[0:13] corresponds to Red tiles\n",
    "y[13:26] corresponds to Blue tiles\n",
    "y[26:39] corresponds to Yellow tiles\n",
    "y[39:52] corresponds to Black tiles\n",
    "y[52] corresponds to Joker\n",
    "\n",
    "Ex: with hand R2 J0 Y8 K3 Y8 K6\n",
    "y[1] = 1. y[33] = 2, y[41] = 1, y[44] = 1, y[52] = 1\n",
    "all other y indices are 0\n",
    "\n",
    "x[j] array:\n",
    "as long as the total number of every possible group in the game\n",
    "at each index is a 0,1, or 2\n",
    "indicates how many times that group can be played based on hand+board\n",
    "\n",
    "s[i][j] matrix:\n",
    "each location i,j has 1 if tile i is in set j\n",
    "0 if tile i not in set j\n",
    "\n",
    "r[i] array:\n",
    "tiles on your rack, same format as y[i]\n",
    "y[i] <= r[i]\n",
    "y[i] is tiles from rack that can be played, so if y[i] == r[i], you win\n",
    "\n",
    "t[i] array:\n",
    "tiles on the table, same format as y[i]\n",
    "\n",
    "The hard part:\n",
    "Maximize Sum of y[i] over all i∈{1,2...,53}\n",
    "subject to: Sum of s[i][j]x[j] == t[i] + y[i]\n",
    "            y[i] <= r[i]\n",
    "            x[j] ∈ {0,1,2}\n",
    "            y[j] ∈ {0,1,2}\n",
    "\n",
    "source: doi:10.1093/comjnl/bxl033\n",
    "'''\n",
    "tileToIndex = []\n",
    "for i in ['R','B','Y','K']:\n",
    "    for j in range(13):\n",
    "        tileToIndex.append(i+str(j+1))\n",
    "tileToIndex.append('J0')\n",
    "tileToIndex = tuple(tileToIndex)\n",
    "\n",
    "exampleDraw = drawPile()\n",
    "exampleHand = hand(exampleDraw,1)\n",
    "\n",
    "exHandStrings = [x.string for x in exampleHand.hand]\n",
    "\n",
    "exhaustiveList = ILP.generateSet(13,['R','B','K','Y'])\n",
    "xarray = np.zeros(len(exhaustiveList))\n",
    "for item in exhaustiveList:\n",
    "    jokerCount = 0\n",
    "    tileCounter = 0\n",
    "    for el in item.group:\n",
    "        if el.string in exHandStrings:\n",
    "            tileCounter += 1\n",
    "            if el.string == 'J0':\n",
    "                exHandStrings.remove('J0')\n",
    "                jokerCount += 1\n",
    "    if tileCounter == len(item.group):\n",
    "        xarray[exhaustiveList.index(item)] += 1\n",
    "    exHandStrings.extend(jokerCount*['J0'])"
   ]
  },
  {
   "cell_type": "code",
   "execution_count": 3,
   "metadata": {},
   "outputs": [
    {
     "name": "stdout",
     "output_type": "stream",
     "text": [
      "['K8', 'K3', 'K5', 'K13', 'Y9', 'R1', 'R2', 'K7', 'Y11', 'K2', 'B7', 'K6', 'J0', 'J0']\n",
      "[0. 0. 0. ... 0. 0. 0.]\n"
     ]
    },
    {
     "data": {
      "text/plain": [
       "(array([  69,   72,   73,  187,  421,  426,  432,  436,  443,  447,  452,\n",
       "         455,  456,  457,  458,  463,  467,  468,  469,  470,  471,  472,\n",
       "         473,  474,  481,  485,  490,  622,  674,  681,  753,  764,  866,\n",
       "         867,  870,  876, 1098, 1118, 1138, 1231, 1232, 1235, 1236, 1239,\n",
       "        1243, 1245, 1247, 1249, 1251, 1254, 1262, 1263, 1265, 1268, 1269,\n",
       "        1272, 1275, 1278, 1279, 1281, 1282, 1283, 1284, 1285, 1286, 1290,\n",
       "        1294, 1295, 1296, 1300, 1301, 1302, 1303, 1304, 1305, 1306, 1307,\n",
       "        1308, 1309, 1310, 1311, 1312, 1320, 1321, 1324, 1326, 1327, 1331,\n",
       "        1334, 1336, 1337, 1340, 1346, 1356, 1395, 1502, 1522, 1540, 1542,\n",
       "        1544, 1560, 1566, 1580, 1607, 1613, 1641, 1679]),)"
      ]
     },
     "execution_count": 3,
     "metadata": {},
     "output_type": "execute_result"
    }
   ],
   "source": [
    "print(exHandStrings)\n",
    "print(xarray)\n",
    "# print(exhaustiveList)\n",
    "np.where(xarray>=1)"
   ]
  },
  {
   "cell_type": "code",
   "execution_count": 99,
   "metadata": {},
   "outputs": [],
   "source": [
    "exhaustiveList = np.array(exhaustiveList)\n",
    "groupsFromHand = np.where(xarray==1)\n",
    "makeableGroups = exhaustiveList[groupsFromHand]\n",
    "# for item in makeableGroups:\n",
    "#     print(*[x.string for x in item.group])"
   ]
  },
  {
   "cell_type": "code",
   "execution_count": 46,
   "metadata": {},
   "outputs": [],
   "source": [
    "from board import board\n",
    "from group import group\n",
    "b = board()\n",
    "b.addGroups([exhaustiveList[20],exhaustiveList[237]])"
   ]
  },
  {
   "cell_type": "code",
   "execution_count": 53,
   "metadata": {},
   "outputs": [
    {
     "data": {
      "text/plain": [
       "[1, 2, 3]"
      ]
     },
     "execution_count": 53,
     "metadata": {},
     "output_type": "execute_result"
    }
   ],
   "source": [
    "list(np.array([1,2,3]))"
   ]
  },
  {
   "cell_type": "code",
   "execution_count": 47,
   "metadata": {},
   "outputs": [
    {
     "data": {
      "text/plain": [
       "[<group.group at 0x7f7df081f6a0>, <group.group at 0x7f7df085b9d0>]"
      ]
     },
     "execution_count": 47,
     "metadata": {},
     "output_type": "execute_result"
    }
   ],
   "source": [
    "b.board"
   ]
  },
  {
   "cell_type": "code",
   "execution_count": 100,
   "metadata": {},
   "outputs": [
    {
     "name": "stdout",
     "output_type": "stream",
     "text": [
      "['R6', 'R7', 'R8', 'R9', 'R10']\n",
      "['R5', 'R6', 'R7', 'J0']\n",
      "['K7', 'K8', 'K9']\n",
      "['B4', 'B5', 'B6']\n",
      "['K5', 'K6', 'K7']\n",
      "['R1', 'R2', 'J0']\n",
      "['J0', 'K2', 'K3']\n",
      "\n",
      "\n",
      "['K13', 'B7', 'K8', 'Y9', 'Y11']\n"
     ]
    }
   ],
   "source": [
    "'''\n",
    "start with 1 group, remove tiles from hand/board combo\n",
    "'''\n",
    "### Need to fix for the joker at the end case\n",
    "bestLen = -1\n",
    "bestChoice = []\n",
    "# makeableGroups = b.board + list(makeableGroups)\n",
    "\n",
    "for i in range(len(makeableGroups)):\n",
    "    handCopy = exampleHand.hand[:]\n",
    "    handCopyStrings = [x.string for x in handCopy]\n",
    "    boardCopy = []\n",
    "    for item in b.board:\n",
    "        boardCopy.extend(item.group)\n",
    "    boardCopyStrings = [x.string for x in boardCopy]\n",
    "    \n",
    "    masterList = boardCopy + handCopy\n",
    "    masterStrings = boardCopyStrings + handCopyStrings\n",
    "\n",
    "    useThese = []\n",
    "    for item in makeableGroups[i:]:\n",
    "        tempGroup = []\n",
    "        for el in item.group:\n",
    "            try:\n",
    "                masterList.pop(masterStrings.index(el.string))\n",
    "                masterStrings.remove(el.string)\n",
    "            except:\n",
    "                masterList.extend(tempGroup)\n",
    "                masterStrings.extend([x.string for x in tempGroup])\n",
    "                tempGroup = []\n",
    "                break\n",
    "            tempGroup.append(el)\n",
    "\n",
    "        if tempGroup != []:\n",
    "            useThese.append(tempGroup)\n",
    "    \n",
    "    newsThese = []\n",
    "    for i in useThese:\n",
    "        newsThese.extend(i)\n",
    "    useTheseStrings = [x.string for x in newsThese]\n",
    "    boardCheck = True\n",
    "    for el in boardCopyStrings:\n",
    "        if el in useTheseStrings:\n",
    "            useTheseStrings.remove(el)\n",
    "        else:\n",
    "            boardCheck = False\n",
    "            break\n",
    "\n",
    "    if boardCheck and bestLen < len(np.array(bestChoice, dtype=object).flatten()):\n",
    "        bestChoice = useThese[:]\n",
    "        bestLen = len(bestChoice)\n",
    "        bestPlay = masterStrings[:]\n",
    "             \n",
    "\n",
    "for item in bestChoice:\n",
    "    print([x.string for x in item])\n",
    "\n",
    "print('\\n')\n",
    "print(bestPlay)\n",
    "# print(handCopyStrings)\n",
    "# print(exHandStrings)"
   ]
  },
  {
   "cell_type": "code",
   "execution_count": 98,
   "metadata": {},
   "outputs": [],
   "source": [
    "from tile import tile\n",
    "b.addGroups([group([tile(4,'B'),tile(5,'B'),tile(6,'B')])])"
   ]
  },
  {
   "cell_type": "code",
   "execution_count": 66,
   "metadata": {},
   "outputs": [
    {
     "name": "stdout",
     "output_type": "stream",
     "text": [
      "R5 R6 R7 J0\n"
     ]
    }
   ],
   "source": [
    "print(*[x.string for x in b.board[1].group])"
   ]
  },
  {
   "cell_type": "markdown",
   "metadata": {},
   "source": []
  }
 ],
 "metadata": {
  "interpreter": {
   "hash": "e7370f93d1d0cde622a1f8e1c04877d8463912d04d973331ad4851f04de6915a"
  },
  "kernelspec": {
   "display_name": "Python 3.9.5 64-bit",
   "name": "python3"
  },
  "language_info": {
   "codemirror_mode": {
    "name": "ipython",
    "version": 3
   },
   "file_extension": ".py",
   "mimetype": "text/x-python",
   "name": "python",
   "nbconvert_exporter": "python",
   "pygments_lexer": "ipython3",
   "version": "3.9.5"
  },
  "orig_nbformat": 4
 },
 "nbformat": 4,
 "nbformat_minor": 2
}