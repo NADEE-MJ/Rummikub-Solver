{
 "cells": [
  {
   "cell_type": "code",
   "execution_count": 26,
   "metadata": {},
   "outputs": [],
   "source": [
    "from drawpile import drawPile\n",
    "import numpy as np\n",
    "import ILP\n",
    "from hand import hand\n",
    "from board import board\n",
    "from group import group\n",
    "from tile import tile\n",
    "'''\n",
    "gather all of the tiles on the board and in your hand\n",
    "count them up 0 to 2 for each tile, recorded in y array\n",
    "y[i] array:\n",
    "y[0:13] corresponds to Red tiles\n",
    "y[13:26] corresponds to Blue tiles\n",
    "y[26:39] corresponds to Yellow tiles\n",
    "y[39:52] corresponds to Black tiles\n",
    "y[52] corresponds to Joker\n",
    "\n",
    "Ex: with hand R2 J0 Y8 K3 Y8 K6\n",
    "y[1] = 1. y[33] = 2, y[41] = 1, y[44] = 1, y[52] = 1\n",
    "all other y indices are 0\n",
    "\n",
    "x[j] array:\n",
    "as long as the total number of every possible group in the game\n",
    "at each index is a 0,1, or 2\n",
    "indicates how many times that group can be played based on hand+board\n",
    "\n",
    "s[i][j] matrix:\n",
    "each location i,j has 1 if tile i is in set j\n",
    "0 if tile i not in set j\n",
    "\n",
    "r[i] array:\n",
    "tiles on your rack, same format as y[i]\n",
    "y[i] <= r[i]\n",
    "y[i] is tiles from rack that can be played, so if y[i] == r[i], you win\n",
    "\n",
    "t[i] array:\n",
    "tiles on the table, same format as y[i]\n",
    "\n",
    "The hard part:\n",
    "Maximize Sum of y[i] over all i∈{1,2...,53}\n",
    "subject to: Sum of s[i][j]x[j] == t[i] + y[i]\n",
    "            y[i] <= r[i]\n",
    "            x[j] ∈ {0,1,2}\n",
    "            y[j] ∈ {0,1,2}\n",
    "\n",
    "source: doi:10.1093/comjnl/bxl033\n",
    "'''\n",
    "tileToIndex = []\n",
    "for i in ['R','B','Y','K']:\n",
    "    for j in range(13):\n",
    "        tileToIndex.append(i+str(j+1))\n",
    "tileToIndex.append('J0')\n",
    "tileToIndex = tuple(tileToIndex)\n",
    "\n",
    "exampleDraw = drawPile()\n",
    "exampleHand = hand(exampleDraw,1)\n",
    "\n",
    "b = board()\n",
    "b.addGroups([group([tile(4,'B'),tile(5,'B'),tile(6,'B')])])\n",
    "b.addGroups([group([tile(9,'Y'),tile(10,'Y'),tile(11,'Y')])])\n",
    "boardCopy = []\n",
    "for item in b.board:\n",
    "    boardCopy.extend(item.group)\n",
    "\n",
    "exHandStrings = [x.string for x in exampleHand.hand + boardCopy]\n",
    "\n",
    "exhaustiveList = ILP.generateSet(13,['R','B','K','Y'])\n",
    "xarray = np.zeros(len(exhaustiveList))\n",
    "for item in exhaustiveList:\n",
    "    jokerCount = 0\n",
    "    tileCounter = 0\n",
    "    for el in item.group:\n",
    "        if el.string in exHandStrings:\n",
    "            tileCounter += 1\n",
    "            if el.string == 'J0':\n",
    "                exHandStrings.remove('J0')\n",
    "                jokerCount += 1\n",
    "    if tileCounter == len(item.group):\n",
    "        xarray[exhaustiveList.index(item)] += 1\n",
    "    exHandStrings.extend(jokerCount*['J0'])"
   ]
  },
  {
   "cell_type": "code",
   "execution_count": 29,
   "metadata": {},
   "outputs": [
    {
     "output_type": "stream",
     "name": "stdout",
     "text": [
      "['B7', 'K4', 'B6', 'K11', 'B5', 'K13', 'R9', 'K8', 'B8', 'Y5', 'B5', 'R12', 'R12', 'Y9', 'B4', 'B5', 'B6', 'Y9', 'Y10', 'Y11']\n[0. 0. 0. ... 0. 0. 0.]\n"
     ]
    },
    {
     "output_type": "execute_result",
     "data": {
      "text/plain": [
       "(array([ 36,  39,  40,  42,  43,  44, 111]),)"
      ]
     },
     "metadata": {},
     "execution_count": 29
    }
   ],
   "source": [
    "print(exHandStrings)\n",
    "print(xarray)\n",
    "# print(exhaustiveList)\n",
    "np.where(xarray>=1)"
   ]
  },
  {
   "cell_type": "code",
   "execution_count": 30,
   "metadata": {},
   "outputs": [
    {
     "output_type": "stream",
     "name": "stdout",
     "text": [
      "B4 B5 B6\nB5 B6 B7\nB4 B5 B6 B7\nB6 B7 B8\nB5 B6 B7 B8\nB4 B5 B6 B7 B8\nY9 Y10 Y11\n"
     ]
    }
   ],
   "source": [
    "exhaustiveList = np.array(exhaustiveList)\n",
    "groupsFromHand = np.where(xarray==1)\n",
    "makeableGroups = exhaustiveList[groupsFromHand]\n",
    "for item in makeableGroups:\n",
    "    print(*[x.string for x in item.group])"
   ]
  },
  {
   "cell_type": "code",
   "execution_count": 12,
   "metadata": {},
   "outputs": [],
   "source": [
    "b.addGroups([group([tile(9,'Y'),tile(10,'Y'),tile(11,'Y')])])"
   ]
  },
  {
   "cell_type": "code",
   "execution_count": 47,
   "metadata": {},
   "outputs": [
    {
     "data": {
      "text/plain": [
       "[<group.group at 0x7f7df081f6a0>, <group.group at 0x7f7df085b9d0>]"
      ]
     },
     "execution_count": 47,
     "metadata": {},
     "output_type": "execute_result"
    }
   ],
   "source": [
    "b.board"
   ]
  },
  {
   "cell_type": "code",
   "execution_count": 28,
   "metadata": {},
   "outputs": [
    {
     "output_type": "stream",
     "name": "stdout",
     "text": [
      "['B4', 'B5', 'B6', 'B7']\n['Y9', 'Y10', 'Y11']\n\n\n['K4', 'K11', 'K13', 'R9', 'K8', 'B8', 'Y5', 'B5', 'R12', 'R12', 'Y9', 'B5', 'B6']\n"
     ]
    }
   ],
   "source": [
    "'''\n",
    "start with 1 group, remove tiles from hand/board combo\n",
    "'''\n",
    "### Need to fix for the joker at the end case\n",
    "bestLen = -1\n",
    "bestChoice = []\n",
    "# makeableGroups = b.board + list(makeableGroups)\n",
    "\n",
    "for i in range(len(makeableGroups)):\n",
    "    handCopy = exampleHand.hand[:]\n",
    "    handCopyStrings = [x.string for x in handCopy]\n",
    "    boardCopy = []\n",
    "    for item in b.board:\n",
    "        boardCopy.extend(item.group)\n",
    "    boardCopyStrings = [x.string for x in boardCopy]\n",
    "    \n",
    "    masterList = boardCopy + handCopy\n",
    "    masterStrings = boardCopyStrings + handCopyStrings\n",
    "\n",
    "    useThese = []\n",
    "    for item in makeableGroups[i:]:\n",
    "        tempGroup = []\n",
    "        for el in item.group:\n",
    "            try:\n",
    "                masterList.pop(masterStrings.index(el.string))\n",
    "                masterStrings.remove(el.string)\n",
    "            except:\n",
    "                masterList.extend(tempGroup)\n",
    "                masterStrings.extend([x.string for x in tempGroup])\n",
    "                tempGroup = []\n",
    "                break\n",
    "            tempGroup.append(el)\n",
    "\n",
    "        if tempGroup != []:\n",
    "            useThese.append(tempGroup)\n",
    "    \n",
    "    newsThese = []\n",
    "    for i in useThese:\n",
    "        newsThese.extend(i)\n",
    "    useTheseStrings = [x.string for x in newsThese]\n",
    "    boardCheck = True\n",
    "    for el in boardCopyStrings:\n",
    "        if el in useTheseStrings:\n",
    "            useTheseStrings.remove(el)\n",
    "        else:\n",
    "            boardCheck = False\n",
    "            break\n",
    "\n",
    "    if boardCheck and bestLen < len(np.array(bestChoice, dtype=object).flatten()):\n",
    "        bestChoice = useThese[:]\n",
    "        bestLen = len(bestChoice)\n",
    "        bestPlay = masterStrings[:]\n",
    "             \n",
    "\n",
    "for item in bestChoice:\n",
    "    print([x.string for x in item])\n",
    "\n",
    "print('\\n')\n",
    "print(bestPlay)\n",
    "# print(handCopyStrings)\n",
    "# print(exHandStrings)"
   ]
  },
  {
   "cell_type": "code",
   "execution_count": 98,
   "metadata": {},
   "outputs": [],
   "source": [
    "from tile import tile\n",
    "b.addGroups([group([tile(4,'B'),tile(5,'B'),tile(6,'B')])])"
   ]
  },
  {
   "cell_type": "code",
   "execution_count": 66,
   "metadata": {},
   "outputs": [
    {
     "name": "stdout",
     "output_type": "stream",
     "text": [
      "R5 R6 R7 J0\n"
     ]
    }
   ],
   "source": [
    "print(*[x.string for x in b.board[1].group])"
   ]
  },
  {
   "cell_type": "markdown",
   "metadata": {},
   "source": []
  }
 ],
 "metadata": {
  "interpreter": {
   "hash": "e7370f93d1d0cde622a1f8e1c04877d8463912d04d973331ad4851f04de6915a"
  },
  "kernelspec": {
   "name": "python3",
   "display_name": "Python 3.9.5 64-bit"
  },
  "language_info": {
   "codemirror_mode": {
    "name": "ipython",
    "version": 3
   },
   "file_extension": ".py",
   "mimetype": "text/x-python",
   "name": "python",
   "nbconvert_exporter": "python",
   "pygments_lexer": "ipython3",
   "version": "3.9.5"
  },
  "orig_nbformat": 4
 },
 "nbformat": 4,
 "nbformat_minor": 2
}