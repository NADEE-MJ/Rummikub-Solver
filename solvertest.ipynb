{
 "cells": [
  {
   "cell_type": "code",
   "execution_count": 51,
   "metadata": {},
   "outputs": [],
   "source": [
    "from drawpile import drawPile\n",
    "import numpy as np\n",
    "import ILP\n",
    "from hand import hand\n",
    "'''\n",
    "gather all of the tiles on the board and in your hand\n",
    "count them up 0 to 2 for each tile, recorded in y array\n",
    "y[i] array:\n",
    "y[0:13] corresponds to Red tiles\n",
    "y[13:26] corresponds to Blue tiles\n",
    "y[26:39] corresponds to Yellow tiles\n",
    "y[39:52] corresponds to Black tiles\n",
    "y[52] corresponds to Joker\n",
    "\n",
    "Ex: with hand R2 J0 Y8 K3 Y8 K6\n",
    "y[1] = 1. y[33] = 2, y[41] = 1, y[44] = 1, y[52] = 1\n",
    "all other y indices are 0\n",
    "\n",
    "x[j] array:\n",
    "as long as the total number of every possible group in the game\n",
    "at each index is a 0,1, or 2\n",
    "indicates how many times that group can be played based on hand+board\n",
    "\n",
    "s[i][j] matrix:\n",
    "each location i,j has 1 if tile i is in set j\n",
    "0 if tile i not in set j\n",
    "\n",
    "r[i] array:\n",
    "tiles on your rack, same format as y[i]\n",
    "y[i] <= r[i]\n",
    "y[i] is tiles from rack that can be played, so if y[i] == r[i], you win\n",
    "\n",
    "t[i] array:\n",
    "tiles on the table, same format as y[i]\n",
    "\n",
    "The hard part:\n",
    "Maximize Sum of y[i] over all i∈{1,2...,53}\n",
    "subject to: Sum of s[i][j]x[j] == t[i] + y[i]\n",
    "            y[i] <= r[i]\n",
    "            x[j] ∈ {0,1,2}\n",
    "            y[j] ∈ {0,1,2}\n",
    "\n",
    "source: doi:10.1093/comjnl/bxl033\n",
    "'''\n",
    "tileToIndex = []\n",
    "for i in ['R','B','Y','K']:\n",
    "    for j in range(13):\n",
    "        tileToIndex.append(i+str(j+1))\n",
    "tileToIndex.append('J0')\n",
    "tileToIndex = tuple(tileToIndex)\n",
    "\n",
    "exampleDraw = drawPile()\n",
    "exampleHand = hand(exampleDraw,1)\n",
    "\n",
    "exHandStrings = [x.string for x in exampleHand.hand]\n",
    "\n",
    "exhaustiveList = ILP.generateSet(13,['R','B','K','Y'])\n",
    "xarray = np.zeros(len(exhaustiveList))\n",
    "for item in exhaustiveList:\n",
    "    jokerCount = 0\n",
    "    tileCounter = 0\n",
    "    for el in item.group:\n",
    "        if el.string in exHandStrings:\n",
    "            tileCounter += 1\n",
    "            if el.string == 'J0':\n",
    "                exHandStrings.remove('J0')\n",
    "                jokerCount += 1\n",
    "    if tileCounter == len(item.group):\n",
    "        xarray[exhaustiveList.index(item)] += 1\n",
    "    exHandStrings.extend(jokerCount*['J0'])"
   ]
  },
  {
   "cell_type": "code",
   "execution_count": 56,
   "metadata": {},
   "outputs": [
    {
     "data": {
      "text/plain": [
       "['R1', 'R2', 'R3']"
      ]
     },
     "execution_count": 56,
     "metadata": {},
     "output_type": "execute_result"
    }
   ],
   "source": [
    "[x.string for x in exhaustiveList[0].group]"
   ]
  },
  {
   "cell_type": "code",
   "execution_count": 58,
   "metadata": {},
   "outputs": [
    {
     "name": "stdout",
     "output_type": "stream",
     "text": [
      "['K13', 'R13', 'B7', 'K2', 'R12', 'K7', 'Y4', 'R11', 'R7', 'B12', 'Y5', 'B13', 'K12', 'J0']\n",
      "[0. 0. 0. ... 0. 0. 0.]\n"
     ]
    },
    {
     "data": {
      "text/plain": [
       "(array([ 27, 150, 175, 180, 279, 291, 292, 293, 294, 409, 527, 549, 563,\n",
       "        753, 754, 755, 758, 761, 764, 768, 833, 834, 835, 838, 841, 844,\n",
       "        848, 849, 850, 851, 854, 857, 860, 864]),)"
      ]
     },
     "execution_count": 58,
     "metadata": {},
     "output_type": "execute_result"
    }
   ],
   "source": [
    "print(exHandStrings)\n",
    "print(xarray)\n",
    "# print(exhaustiveList)\n",
    "np.where(xarray==1)"
   ]
  },
  {
   "cell_type": "code",
   "execution_count": 54,
   "metadata": {},
   "outputs": [
    {
     "name": "stdout",
     "output_type": "stream",
     "text": [
      "R11 R12 R13\n",
      "R7 B7 K7\n",
      "R12 B12 K12\n",
      "R13 B13 K13\n",
      "J0 R11 R12\n",
      "J0 R12 R13\n",
      "R11 J0 R13\n",
      "R11 R12 J0\n",
      "J0 R11 R12 R13\n",
      "J0 B12 B13\n",
      "J0 K12 K13\n",
      "J0 Y4 Y5\n",
      "Y4 Y5 J0\n",
      "J0 B7 K7\n",
      "R7 J0 K7\n",
      "R7 B7 J0\n",
      "R7 B7 J0\n",
      "R7 K7 J0\n",
      "B7 K7 J0\n",
      "R7 B7 K7 J0\n",
      "J0 B12 K12\n",
      "R12 J0 K12\n",
      "R12 B12 J0\n",
      "R12 B12 J0\n",
      "R12 K12 J0\n",
      "B12 K12 J0\n",
      "R12 B12 K12 J0\n",
      "J0 B13 K13\n",
      "R13 J0 K13\n",
      "R13 B13 J0\n",
      "R13 B13 J0\n",
      "R13 K13 J0\n",
      "B13 K13 J0\n",
      "R13 B13 K13 J0\n"
     ]
    }
   ],
   "source": [
    "exhaustiveList = np.array(exhaustiveList)\n",
    "groupsFromHand = np.where(xarray==1)\n",
    "makeableGroups = exhaustiveList[groupsFromHand]\n",
    "for item in makeableGroups:\n",
    "    print(*[x.string for x in item.group])"
   ]
  },
  {
   "cell_type": "code",
   "execution_count": 34,
   "metadata": {},
   "outputs": [
    {
     "data": {
      "text/plain": [
       "<group.group at 0x7ff8ac912130>"
      ]
     },
     "execution_count": 34,
     "metadata": {},
     "output_type": "execute_result"
    }
   ],
   "source": []
  }
 ],
 "metadata": {
  "interpreter": {
   "hash": "e7370f93d1d0cde622a1f8e1c04877d8463912d04d973331ad4851f04de6915a"
  },
  "kernelspec": {
   "display_name": "Python 3.9.5 64-bit",
   "name": "python3"
  },
  "language_info": {
   "codemirror_mode": {
    "name": "ipython",
    "version": 3
   },
   "file_extension": ".py",
   "mimetype": "text/x-python",
   "name": "python",
   "nbconvert_exporter": "python",
   "pygments_lexer": "ipython3",
   "version": "3.9.5"
  },
  "orig_nbformat": 4
 },
 "nbformat": 4,
 "nbformat_minor": 2
}